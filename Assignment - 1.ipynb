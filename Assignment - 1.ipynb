{
 "cells": [
  {
   "cell_type": "raw",
   "id": "4ab497bb-35bc-4e45-8b64-4e0ca1d79998",
   "metadata": {
    "tags": []
   },
   "source": [
    "    ANSWER - 1 "
   ]
  },
  {
   "cell_type": "code",
   "execution_count": 23,
   "id": "2d60c70f-bc49-4ce4-808c-d463f7d807ad",
   "metadata": {},
   "outputs": [],
   "source": [
    "v = \"Pw skills\"    ## STRING"
   ]
  },
  {
   "cell_type": "code",
   "execution_count": 3,
   "id": "5ab3e488-fb05-4cfe-a4ff-042387440c0e",
   "metadata": {},
   "outputs": [],
   "source": [
    "l = [1,34,45.56,'shudh']     ## LIST"
   ]
  },
  {
   "cell_type": "code",
   "execution_count": 4,
   "id": "33204dae-e11e-41ee-b356-1ee8808fca69",
   "metadata": {},
   "outputs": [],
   "source": [
    "f = 23.34    ## FLOAT"
   ]
  },
  {
   "cell_type": "code",
   "execution_count": 6,
   "id": "d8be2c81-ed73-4002-bb68-1018c7382afc",
   "metadata": {},
   "outputs": [],
   "source": [
    "t = {1,2,44,'salman',}   ## TUPPLE"
   ]
  },
  {
   "cell_type": "code",
   "execution_count": null,
   "id": "d0f5e13f-5b3b-4ac6-b650-7b57f738c5b9",
   "metadata": {},
   "outputs": [],
   "source": []
  },
  {
   "cell_type": "raw",
   "id": "959d106f-2016-4e29-8cf3-caf7d5a1c01e",
   "metadata": {
    "tags": []
   },
   "source": [
    "    ANSWER- 2 "
   ]
  },
  {
   "cell_type": "code",
   "execution_count": 19,
   "id": "75c4de00-37c1-400b-bb2f-8403375a734e",
   "metadata": {},
   "outputs": [
    {
     "data": {
      "text/plain": [
       "str"
      ]
     },
     "execution_count": 19,
     "metadata": {},
     "output_type": "execute_result"
    }
   ],
   "source": [
    "str    ##(I)"
   ]
  },
  {
   "cell_type": "code",
   "execution_count": 20,
   "id": "da7b6582-9eed-4b63-be3d-f0196d163294",
   "metadata": {},
   "outputs": [
    {
     "data": {
      "text/plain": [
       "str"
      ]
     },
     "execution_count": 20,
     "metadata": {},
     "output_type": "execute_result"
    }
   ],
   "source": [
    "str    ##(II)"
   ]
  },
  {
   "cell_type": "code",
   "execution_count": 11,
   "id": "927726f3-b0b4-4b4b-aa76-f841245f1c80",
   "metadata": {},
   "outputs": [
    {
     "data": {
      "text/plain": [
       "list"
      ]
     },
     "execution_count": 11,
     "metadata": {},
     "output_type": "execute_result"
    }
   ],
   "source": [
    "list   ##(III)"
   ]
  },
  {
   "cell_type": "code",
   "execution_count": null,
   "id": "3e6a1d84-0731-47ff-98e0-4dd7b82928ca",
   "metadata": {},
   "outputs": [],
   "source": [
    "float  ## (IV)"
   ]
  },
  {
   "cell_type": "code",
   "execution_count": null,
   "id": "e3ef8ff0-8db8-4607-a504-853afa2bbab4",
   "metadata": {},
   "outputs": [],
   "source": []
  },
  {
   "cell_type": "raw",
   "id": "c30e9f7a-2160-46a0-aa0e-ad6133c74b84",
   "metadata": {
    "tags": []
   },
   "source": [
    "  ANSWER - 3"
   ]
  },
  {
   "cell_type": "markdown",
   "id": "0557d8d8-fdee-4fb2-9418-2b4d7f6061db",
   "metadata": {},
   "source": [
    "(i)  In Python, the / operator is used for division. It performs floating-point division, which means it returns a floating-point result even if the dividend and divisor are integers"
   ]
  },
  {
   "cell_type": "code",
   "execution_count": 25,
   "id": "a6f5f732-5549-4b3d-8d8c-9c5dce4ccf17",
   "metadata": {},
   "outputs": [
    {
     "data": {
      "text/plain": [
       "3.3333333333333335"
      ]
     },
     "execution_count": 25,
     "metadata": {},
     "output_type": "execute_result"
    }
   ],
   "source": [
    "10/3"
   ]
  },
  {
   "cell_type": "code",
   "execution_count": null,
   "id": "9369b279-1c89-47cc-8823-0576c47badb7",
   "metadata": {},
   "outputs": [],
   "source": []
  },
  {
   "cell_type": "raw",
   "id": "f0a6db53-7e97-42dd-9e73-05f10124078e",
   "metadata": {},
   "source": [
    "(ii)   In Python, the % operator is the modulo operator. It returns the remainder of the division of the left operand by the right operand."
   ]
  },
  {
   "cell_type": "code",
   "execution_count": 26,
   "id": "ddb27f38-5eb9-4496-b224-8e09f0a21c05",
   "metadata": {},
   "outputs": [
    {
     "data": {
      "text/plain": [
       "1"
      ]
     },
     "execution_count": 26,
     "metadata": {},
     "output_type": "execute_result"
    }
   ],
   "source": [
    "10%3"
   ]
  },
  {
   "cell_type": "code",
   "execution_count": null,
   "id": "95bc0e6f-d448-4580-a616-4c341d1ba98f",
   "metadata": {},
   "outputs": [],
   "source": []
  },
  {
   "cell_type": "raw",
   "id": "5db4ee75-eca7-4327-8809-69857a230a13",
   "metadata": {},
   "source": [
    "(iii)   In Python, the // operator is the floor division operator. It performs division between two numbers and returns the largest integer that is less than or equal to the result."
   ]
  },
  {
   "cell_type": "code",
   "execution_count": 28,
   "id": "22dde1e8-088f-46e9-bb08-ccefc5600d46",
   "metadata": {},
   "outputs": [
    {
     "data": {
      "text/plain": [
       "5"
      ]
     },
     "execution_count": 28,
     "metadata": {},
     "output_type": "execute_result"
    }
   ],
   "source": [
    "16//3"
   ]
  },
  {
   "cell_type": "code",
   "execution_count": null,
   "id": "0f4bfd89-6813-4178-9368-16cbac07624d",
   "metadata": {},
   "outputs": [],
   "source": []
  },
  {
   "cell_type": "raw",
   "id": "b65ec44e-7a33-4847-b5fe-352006f74ad5",
   "metadata": {
    "tags": []
   },
   "source": [
    "   ANSWER - 4"
   ]
  },
  {
   "cell_type": "code",
   "execution_count": 32,
   "id": "36e5b581-21ce-4398-b4a7-fecb4aae9b01",
   "metadata": {},
   "outputs": [
    {
     "name": "stdout",
     "output_type": "stream",
     "text": [
      "1 <class 'int'>\n",
      "Shudh <class 'str'>\n",
      "3.14 <class 'float'>\n",
      "True <class 'bool'>\n",
      "World <class 'str'>\n",
      "5 <class 'int'>\n",
      "582 <class 'int'>\n",
      "6.28 <class 'float'>\n",
      "Programming <class 'str'>\n",
      "10 <class 'int'>\n"
     ]
    }
   ],
   "source": [
    "list1 = [1, \"Shudh\", 3.14, True, \"World\", 5, 582, 6.28, \"Programming\", 10]\n",
    "\n",
    "for x in list1:\n",
    "\tprint(x, type(x))"
   ]
  },
  {
   "cell_type": "code",
   "execution_count": null,
   "id": "df95b892-0169-44ce-b99b-4c849c3fa23a",
   "metadata": {},
   "outputs": [],
   "source": []
  },
  {
   "cell_type": "raw",
   "id": "a78baef9-1b6e-421d-a977-8e2dfd818720",
   "metadata": {
    "tags": []
   },
   "source": [
    "## ANSWER - 5"
   ]
  },
  {
   "cell_type": "code",
   "execution_count": 28,
   "id": "b3133864-352d-4bf9-afbf-65fb6a365119",
   "metadata": {},
   "outputs": [
    {
     "name": "stdin",
     "output_type": "stream",
     "text": [
      "Enter the dividend (A):  2\n",
      "Enter the divisor (B):  5\n"
     ]
    },
    {
     "name": "stdout",
     "output_type": "stream",
     "text": [
      "2 is not purely divisible by 5. Remainder: 2\n"
     ]
    }
   ],
   "source": [
    "## Input numbers A and B\n",
    "A = int(input(\"Enter the dividend (A): \"))\n",
    "B = int(input(\"Enter the divisor (B): \"))\n",
    "\n",
    "# Initialize a counter for the number of times A can be divided by B\n",
    "divisions = 0\n",
    "\n",
    "# Use a while loop to check and count divisions\n",
    "while A >= B:\n",
    "    A = A - B\n",
    "    divisions += 1\n",
    "    \n",
    "\n",
    "# Output the result\n",
    "if A == 0:\n",
    "    print(f\"{A} is purely divisible by {B}. It can be divided {divisions} times.\")\n",
    "else:\n",
    "    print(f\"{A} is not purely divisible by {B}. Remainder: {A}\")\n"
   ]
  },
  {
   "cell_type": "code",
   "execution_count": null,
   "id": "fba84e8a-2052-47ea-88a5-b329042c1031",
   "metadata": {},
   "outputs": [],
   "source": []
  },
  {
   "cell_type": "code",
   "execution_count": null,
   "id": "d2b1ba69-36d6-4134-b0e0-fef899469d9b",
   "metadata": {},
   "outputs": [],
   "source": []
  },
  {
   "cell_type": "raw",
   "id": "a30ed9e6-c56b-4943-9cce-9d66a71714e2",
   "metadata": {},
   "source": [
    "   ANSWER - 6"
   ]
  },
  {
   "cell_type": "code",
   "execution_count": 35,
   "id": "dcd10f52-9b58-43d8-89fa-35964f3edd90",
   "metadata": {},
   "outputs": [
    {
     "name": "stdout",
     "output_type": "stream",
     "text": [
      "2 is not divisible by 3\n",
      "3 is divisible by 3\n",
      "5 is not divisible by 3\n",
      "4 is not divisible by 3\n",
      "6 is divisible by 3\n",
      "7 is not divisible by 3\n",
      "8 is not divisible by 3\n",
      "33 is divisible by 3\n",
      "55 is not divisible by 3\n",
      "65 is not divisible by 3\n",
      "44 is not divisible by 3\n",
      "34 is not divisible by 3\n",
      "56 is not divisible by 3\n",
      "78 is divisible by 3\n",
      "9 is divisible by 3\n",
      "76 is not divisible by 3\n",
      "5 is not divisible by 3\n",
      "4 is not divisible by 3\n",
      "34 is not divisible by 3\n",
      "67 is not divisible by 3\n",
      "9 is divisible by 3\n",
      "4 is not divisible by 3\n",
      "45 is divisible by 3\n",
      "57 is divisible by 3\n",
      "68 is not divisible by 3\n"
     ]
    }
   ],
   "source": [
    "my_list = [2, 3,5,4,6,7,8,33,55,65,44,34,56,78,9,76,5,4,34,67,9,4,45,57,68]\n",
    "for i in my_list:\n",
    "    if i % 3 == 0:\n",
    "        print( i , 'is divisible by 3')\n",
    "    else:\n",
    "        print( i , 'is not divisible by 3')"
   ]
  },
  {
   "cell_type": "code",
   "execution_count": null,
   "id": "48be5163-729c-4fa1-aff1-388408f9ab1e",
   "metadata": {},
   "outputs": [],
   "source": []
  },
  {
   "cell_type": "raw",
   "id": "80b225e5-1a59-450d-8508-415ffb89e43d",
   "metadata": {},
   "source": [
    "  ANSWER - 7"
   ]
  },
  {
   "cell_type": "raw",
   "id": "04a82294-3389-42a9-a8d1-aada09da6cf7",
   "metadata": {},
   "source": [
    " Mutable Data Type :- Mutable objects can be modified after creation. Changes made to the object directly affect the object itself."
   ]
  },
  {
   "cell_type": "code",
   "execution_count": 14,
   "id": "b27403ff-e3bf-4e50-a7ec-4278f9d290cf",
   "metadata": {},
   "outputs": [],
   "source": [
    "a = [1,2,3,45]"
   ]
  },
  {
   "cell_type": "code",
   "execution_count": 18,
   "id": "4b1fc8dd-43da-43b7-87f4-fe4f00611693",
   "metadata": {},
   "outputs": [],
   "source": [
    "a[2] = 4"
   ]
  },
  {
   "cell_type": "code",
   "execution_count": 17,
   "id": "a4779de8-b55c-42a2-bf34-bb7b6f279437",
   "metadata": {},
   "outputs": [
    {
     "data": {
      "text/plain": [
       "[1, 2, 4, 45]"
      ]
     },
     "execution_count": 17,
     "metadata": {},
     "output_type": "execute_result"
    }
   ],
   "source": [
    "a                         ## List are Mutable"
   ]
  },
  {
   "cell_type": "code",
   "execution_count": null,
   "id": "9f37f839-2971-437f-b547-ad527e7fa3e8",
   "metadata": {},
   "outputs": [],
   "source": []
  },
  {
   "cell_type": "code",
   "execution_count": null,
   "id": "d8d6e827-8fe0-4396-b297-f712bd046de7",
   "metadata": {},
   "outputs": [],
   "source": []
  },
  {
   "cell_type": "raw",
   "id": "29bd271e-3fe3-409e-904a-6c20db666f26",
   "metadata": {},
   "source": [
    " Immutable Data Type :- Immutable objects cannot be modified after creation. Any operation that appears to modify the object actually creates a new object."
   ]
  },
  {
   "cell_type": "code",
   "execution_count": 23,
   "id": "c3962cf1-d22b-4fec-be26-284fe7f17557",
   "metadata": {},
   "outputs": [],
   "source": [
    "b = (1, 23,56.76,[23,45,67.56], \"salman\" )"
   ]
  },
  {
   "cell_type": "code",
   "execution_count": 26,
   "id": "7c01d52f-197d-49b8-8d20-98a07e14bfa8",
   "metadata": {},
   "outputs": [
    {
     "ename": "TypeError",
     "evalue": "'tuple' object does not support item assignment",
     "output_type": "error",
     "traceback": [
      "\u001b[0;31m---------------------------------------------------------------------------\u001b[0m",
      "\u001b[0;31mTypeError\u001b[0m                                 Traceback (most recent call last)",
      "Cell \u001b[0;32mIn[26], line 1\u001b[0m\n\u001b[0;32m----> 1\u001b[0m \u001b[43mb\u001b[49m\u001b[43m[\u001b[49m\u001b[38;5;241;43m3\u001b[39;49m\u001b[43m]\u001b[49m \u001b[38;5;241m=\u001b[39m [\u001b[38;5;241m34\u001b[39m]\n",
      "\u001b[0;31mTypeError\u001b[0m: 'tuple' object does not support item assignment"
     ]
    }
   ],
   "source": [
    "b[3] = [34]                ## Tuple are Immutable"
   ]
  },
  {
   "cell_type": "code",
   "execution_count": null,
   "id": "ebfef075-1aa5-4a79-989c-2a37c041faf9",
   "metadata": {},
   "outputs": [],
   "source": []
  }
 ],
 "metadata": {
  "kernelspec": {
   "display_name": "Python 3 (ipykernel)",
   "language": "python",
   "name": "python3"
  },
  "language_info": {
   "codemirror_mode": {
    "name": "ipython",
    "version": 3
   },
   "file_extension": ".py",
   "mimetype": "text/x-python",
   "name": "python",
   "nbconvert_exporter": "python",
   "pygments_lexer": "ipython3",
   "version": "3.10.8"
  }
 },
 "nbformat": 4,
 "nbformat_minor": 5
}
